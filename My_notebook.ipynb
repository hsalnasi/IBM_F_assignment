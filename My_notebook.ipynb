{
 "cells": [
  {
   "cell_type": "markdown",
   "id": "f2a71551",
   "metadata": {},
   "source": [
    "<center>\n",
    "    <img src=\"https://cf-courses-data.s3.us.cloud-object-storage.appdomain.cloud/IBMDeveloperSkillsNetwork-DS0105EN-SkillsNetwork/labs/Module2/images/SN_web_lightmode.png\" width=\"300\" alt=\"cognitiveclass.ai logo\"  />\n",
    "</center>\n"
   ]
  },
  {
   "cell_type": "markdown",
   "id": "84ff540f",
   "metadata": {},
   "source": []
  },
  {
   "cell_type": "markdown",
   "id": "3e0823ca",
   "metadata": {},
   "source": [
    "#### Add your code below following the instructions given in the course\n"
   ]
  },
  {
   "cell_type": "markdown",
   "id": "63a0961e",
   "metadata": {},
   "source": [
    "# My Jupyter Notebook on IBM Watson Studio"
   ]
  },
  {
   "cell_type": "markdown",
   "id": "371493d5",
   "metadata": {},
   "source": [
    "**Haifa** \n",
    "\n",
    "Data scientist \n",
    "\n",
    "\n"
   ]
  },
  {
   "cell_type": "markdown",
   "id": "3764fba2",
   "metadata": {},
   "source": [
    "*I am interested in data science cause its fun*"
   ]
  },
  {
   "cell_type": "markdown",
   "id": "3674084d",
   "metadata": {},
   "source": [
    "### this block of code should greet you in a fancy way "
   ]
  },
  {
   "cell_type": "code",
   "execution_count": 4,
   "id": "70de0176",
   "metadata": {},
   "outputs": [
    {
     "name": "stdout",
     "output_type": "stream",
     "text": [
      "Hola this is Haifa,You better give me a high grade . please :) "
     ]
    }
   ],
   "source": [
    "# animate 'Hello peers :) '\n",
    "\n",
    "import time,sys\n",
    "\n",
    "def animate_text(text):\n",
    "    for letter in text:\n",
    "        sys.stdout.write(letter)\n",
    "        sys.stdout.flush()\n",
    "        time.sleep(0.2)\n",
    "\n",
    "# this code was supposed to animate the text but since its on github you can't run the cell,thus,you can't see it animated :(\n",
    "hola = 'Hola this is Haifa,You better give me a high grade . please :) ' \n",
    "animate_text(hola)"
   ]
  },
  {
   "cell_type": "markdown",
   "id": "37bb3eee",
   "metadata": {},
   "source": [
    "## *Here's my intakes so far from module 3 :*"
   ]
  },
  {
   "cell_type": "markdown",
   "id": "b318bd42",
   "metadata": {},
   "source": [
    "   __________________________________________________________________________\n",
    "   ##### 1. Brief introduction to IBM Watson Studio products . \n",
    "   ##### 2. Github + version control basics .\n",
    "   ##### 3. How to use Jupyter Notebooks (create + publish).\n",
    "   ##### 4. a glance at SPSS modeler(Statics) and its applications.\n",
    "   ##### 5. how to use these tools effectively.\n",
    "   ___________________________________________________________________________\n",
    "    \n",
    "### Find me on Github :)\n",
    "        \n",
    "[Lezgo](https://github.com/hsalnasi).\n",
    "    "
   ]
  },
  {
   "cell_type": "code",
   "execution_count": null,
   "id": "1dbc202c",
   "metadata": {},
   "outputs": [],
   "source": []
  }
 ],
 "metadata": {
  "kernelspec": {
   "display_name": "Python 3 (ipykernel)",
   "language": "python",
   "name": "python3"
  },
  "language_info": {
   "codemirror_mode": {
    "name": "ipython",
    "version": 3
   },
   "file_extension": ".py",
   "mimetype": "text/x-python",
   "name": "python",
   "nbconvert_exporter": "python",
   "pygments_lexer": "ipython3",
   "version": "3.9.13"
  }
 },
 "nbformat": 4,
 "nbformat_minor": 5
}
